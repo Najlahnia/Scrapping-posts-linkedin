{
 "cells": [
  {
   "cell_type": "code",
   "execution_count": 4,
   "metadata": {},
   "outputs": [],
   "source": [
    "from flask import Flask, request, jsonify\n",
    "app = Flask(__name__)\n",
    "@app.route('/login', methods=['POST'])\n",
    "def login():\n",
    "    # Récupérer les données de la requête\n",
    "    data = request.json\n",
    "    username = data.get('username')\n",
    "    password = data.get('password')\n",
    "\n",
    "    if not username or not password:\n",
    "        return jsonify({\"error\": \"Username and password are required\"}), 400\n",
    "\n",
    "    # Démarrer le navigateur\n",
    "    browser = webdriver.Chrome(options=chrome_options)\n",
    "\n",
    "    try:\n",
    "        # Ouvrir la page de connexion LinkedIn\n",
    "        browser.get('https://www.linkedin.com/login?fromSignIn=true&trk=guest_homepage-basic_nav-header-signin')\n",
    "        time.sleep(5)\n",
    "\n",
    "        # Remplir les champs de connexion\n",
    "        username_field = browser.find_element(By.ID, 'username')\n",
    "        username_field.send_keys(username)\n",
    "\n",
    "        password_field = browser.find_element(By.ID, 'password')\n",
    "        password_field.send_keys(password)\n",
    "\n",
    "        # Cliquer sur le bouton de connexion\n",
    "        login_button = browser.find_element(By.XPATH, '//*[@type=\"submit\"]')\n",
    "        login_button.click()\n",
    "\n",
    "        # Attendre que la page se charge\n",
    "        time.sleep(10)\n",
    "\n",
    "        # Vérifier si la connexion a réussi\n",
    "        if \"feed\" in browser.current_url:\n",
    "            return jsonify({\"message\": \"Login successful\"}), 200\n",
    "        else:\n",
    "            return jsonify({\"error\": \"Login failed\"}), 401\n",
    "\n",
    "    except Exception as e:\n",
    "        return jsonify({\"error\": str(e)}), 500\n",
    "\n",
    "    finally:\n",
    "        # Fermer le navigateur\n",
    "        browser.quit()"
   ]
  },
  {
   "cell_type": "code",
   "execution_count": null,
   "metadata": {},
   "outputs": [],
   "source": []
  }
 ],
 "metadata": {
  "kernelspec": {
   "display_name": "Python 3",
   "language": "python",
   "name": "python3"
  },
  "language_info": {
   "codemirror_mode": {
    "name": "ipython",
    "version": 3
   },
   "file_extension": ".py",
   "mimetype": "text/x-python",
   "name": "python",
   "nbconvert_exporter": "python",
   "pygments_lexer": "ipython3",
   "version": "3.11.4"
  }
 },
 "nbformat": 4,
 "nbformat_minor": 2
}
